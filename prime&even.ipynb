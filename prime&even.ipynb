{
 "cells": [
  {
   "cell_type": "code",
   "execution_count": 7,
   "id": "1815db1d",
   "metadata": {},
   "outputs": [
    {
     "ename": "SyntaxError",
     "evalue": "invalid syntax (Temp/ipykernel_1240/4149549269.py, line 1)",
     "output_type": "error",
     "traceback": [
      "\u001b[1;36m  File \u001b[1;32m\"C:\\Users\\Lenovo\\AppData\\Local\\Temp/ipykernel_1240/4149549269.py\"\u001b[1;36m, line \u001b[1;32m1\u001b[0m\n\u001b[1;33m    Write a code to take any 10 numbers in a list and put all the even numbers as well as prime numbers in a dictionary. Your output should look something like this:\u001b[0m\n\u001b[1;37m          ^\u001b[0m\n\u001b[1;31mSyntaxError\u001b[0m\u001b[1;31m:\u001b[0m invalid syntax\n"
     ]
    }
   ],
   "source": [
    "Write a code to take any 10 numbers in a list and put all the even numbers as well as prime numbers in a dictionary. Your output should look something like this:\n",
    "Suppose the list has following 10 numbers:\n",
    "[25, 36, 31, 17, 61, 19, 58, 39, 67, 81]\n",
    "Then the output of your program should look something like this:\n",
    "{'even' : [36, 58], 'prime' : [31, 17, 61, 19, 67]}\n",
    "Don't forget to apply divide and conquer strategy. So think about the solution first about only a single number and then build upon it.\n"
   ]
  },
  {
   "cell_type": "code",
   "execution_count": 53,
   "id": "27f5e469",
   "metadata": {},
   "outputs": [],
   "source": [
    "l = [25, 36, 31, 17, 61, 19, 58, 39, 67, 81]"
   ]
  },
  {
   "cell_type": "code",
   "execution_count": 54,
   "id": "74682fef",
   "metadata": {},
   "outputs": [
    {
     "data": {
      "text/plain": [
       "[25, 36, 31, 17, 61, 19, 58, 39, 67, 81]"
      ]
     },
     "execution_count": 54,
     "metadata": {},
     "output_type": "execute_result"
    }
   ],
   "source": [
    "l"
   ]
  },
  {
   "cell_type": "code",
   "execution_count": 133,
   "id": "ce5104f3",
   "metadata": {},
   "outputs": [],
   "source": [
    "prime = []\n",
    "not_prime = []\n",
    "even = []\n",
    "result = {}\n",
    "for i in range (0,10):\n",
    "    for divisor in range (2, l[i]):\n",
    "        \n",
    "        if l[i] % divisor == 0:\n",
    "#             print(\"the number {} is not prime\", format(l[i]))\n",
    "              not_prime.append(l[i]) \n",
    "              if l[i] % 2 == 0:\n",
    "                 even.append(l[i])\n",
    "               \n",
    "              break\n",
    "    \n",
    "    if divisor == (l[i] - 1):\n",
    "#         \n",
    "        prime.append(l[i])\n",
    "#         print(\"the number {} prime\", format(l[i]))\n",
    "    \n",
    "result[\"even\"] = even\n",
    "result[\"prime\"] = prime\n",
    "            "
   ]
  },
  {
   "cell_type": "code",
   "execution_count": 134,
   "id": "d1193b37",
   "metadata": {},
   "outputs": [
    {
     "name": "stdout",
     "output_type": "stream",
     "text": [
      "[25, 36, 58, 39, 81]\n",
      "[31, 17, 61, 19, 67]\n",
      "[36, 58]\n"
     ]
    },
    {
     "data": {
      "text/plain": [
       "{'even': [36, 58], 'prime': [31, 17, 61, 19, 67]}"
      ]
     },
     "execution_count": 134,
     "metadata": {},
     "output_type": "execute_result"
    }
   ],
   "source": [
    "print(not_prime)\n",
    "print(prime)\n",
    "print(even)\n",
    "result"
   ]
  },
  {
   "cell_type": "code",
   "execution_count": null,
   "id": "1735f4e3",
   "metadata": {},
   "outputs": [],
   "source": []
  },
  {
   "cell_type": "code",
   "execution_count": null,
   "id": "fc2bb2ed",
   "metadata": {},
   "outputs": [],
   "source": []
  }
 ],
 "metadata": {
  "kernelspec": {
   "display_name": "Python 3 (ipykernel)",
   "language": "python",
   "name": "python3"
  },
  "language_info": {
   "codemirror_mode": {
    "name": "ipython",
    "version": 3
   },
   "file_extension": ".py",
   "mimetype": "text/x-python",
   "name": "python",
   "nbconvert_exporter": "python",
   "pygments_lexer": "ipython3",
   "version": "3.9.7"
  }
 },
 "nbformat": 4,
 "nbformat_minor": 5
}
